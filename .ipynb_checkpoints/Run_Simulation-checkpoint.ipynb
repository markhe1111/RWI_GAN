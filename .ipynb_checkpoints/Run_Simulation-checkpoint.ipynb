{
 "cells": [
  {
   "cell_type": "code",
   "execution_count": 1,
   "id": "5cae59f4-d280-4d7b-bebd-4631e9dabf76",
   "metadata": {},
   "outputs": [],
   "source": [
    "import os \n",
    "cwd = os.getcwd()"
   ]
  },
  {
   "cell_type": "code",
   "execution_count": 2,
   "id": "0dc0b9d1-63d4-4d52-9926-79ad2cff6e5d",
   "metadata": {},
   "outputs": [
    {
     "name": "stdout",
     "output_type": "stream",
     "text": [
      "WARNING:tensorflow:From C:\\Users\\markh\\Anaconda3\\lib\\site-packages\\tensorflow\\python\\compat\\v2_compat.py:111: disable_resource_variables (from tensorflow.python.ops.variable_scope) is deprecated and will be removed in a future version.\n",
      "Instructions for updating:\n",
      "non-resource variables are not supported in the long term\n"
     ]
    }
   ],
   "source": [
    "os.chdir(cwd)\n",
    "os.chdir('py_code')\n",
    "\n",
    "%run -i GRWINN.py\n",
    "%run -i utilities.py \n",
    "\n",
    "os.chdir('run_helpers\\\\')\n",
    "%run -i setup.py\n",
    "%run -i runGRWINN.py"
   ]
  },
  {
   "cell_type": "code",
   "execution_count": 12,
   "id": "eb6ab5e4-a9b0-4ed4-8055-99f79243ff74",
   "metadata": {},
   "outputs": [
    {
     "name": "stderr",
     "output_type": "stream",
     "text": [
      "C:\\Users\\markh\\Anaconda3\\lib\\site-packages\\tensorflow\\python\\framework\\indexed_slices.py:448: UserWarning: Converting sparse IndexedSlices(IndexedSlices(indices=Tensor(\"gradients_5/map_5/while/GatherV2_1_grad/Reshape_1:0\", shape=(?,), dtype=int32), values=Tensor(\"gradients_5/map_5/while/GatherV2_1_grad/Reshape:0\", shape=(?,), dtype=float32), dense_shape=Tensor(\"gradients_5/map_5/while/GatherV2_1_grad/Cast:0\", shape=(1,), dtype=int32))) to a dense Tensor of unknown shape. This may consume a large amount of memory.\n",
      "  warnings.warn(\n",
      "C:\\Users\\markh\\Anaconda3\\lib\\site-packages\\tensorflow\\python\\framework\\indexed_slices.py:448: UserWarning: Converting sparse IndexedSlices(IndexedSlices(indices=Tensor(\"gradients_5/map_4/while/GatherV2_1_grad/Reshape_1:0\", shape=(?,), dtype=int32), values=Tensor(\"gradients_5/map_4/while/GatherV2_1_grad/Reshape:0\", shape=(?,), dtype=float32), dense_shape=Tensor(\"gradients_5/map_4/while/GatherV2_1_grad/Cast:0\", shape=(1,), dtype=int32))) to a dense Tensor of unknown shape. This may consume a large amount of memory.\n",
      "  warnings.warn(\n",
      "100%|██████████| 999/999 [00:32<00:00, 31.16it/s]\n"
     ]
    }
   ],
   "source": [
    "os.chdir(cwd)\n",
    "os.chdir('Data')\n",
    "truefile = 'IMb1_1_True.csv'\n",
    "nafile =  'IMb1_1.csv'\n",
    "run =  runRWI( RWIGAN, truefile, nafile , 100, 1, 1000 )  \n"
   ]
  },
  {
   "cell_type": "code",
   "execution_count": 1,
   "id": "61b03bb1-ece7-4915-ade8-0422a75d19b2",
   "metadata": {},
   "outputs": [
    {
     "ename": "NameError",
     "evalue": "name 'run' is not defined",
     "output_type": "error",
     "traceback": [
      "\u001b[1;31m---------------------------------------------------------------------------\u001b[0m",
      "\u001b[1;31mNameError\u001b[0m                                 Traceback (most recent call last)",
      "\u001b[1;32m~\\AppData\\Local\\Temp/ipykernel_18588/3665057050.py\u001b[0m in \u001b[0;36m<module>\u001b[1;34m\u001b[0m\n\u001b[1;32m----> 1\u001b[1;33m \u001b[0mXhat\u001b[0m \u001b[1;33m=\u001b[0m \u001b[0mrun\u001b[0m\u001b[1;33m[\u001b[0m\u001b[1;36m0\u001b[0m\u001b[1;33m]\u001b[0m\u001b[1;33m\u001b[0m\u001b[1;33m\u001b[0m\u001b[0m\n\u001b[0m\u001b[0;32m      2\u001b[0m \u001b[0mG_loss\u001b[0m \u001b[1;33m=\u001b[0m \u001b[0mrun\u001b[0m\u001b[1;33m[\u001b[0m\u001b[1;36m1\u001b[0m\u001b[1;33m]\u001b[0m\u001b[1;33m\u001b[0m\u001b[1;33m\u001b[0m\u001b[0m\n\u001b[0;32m      3\u001b[0m \u001b[0mD_loss\u001b[0m \u001b[1;33m=\u001b[0m \u001b[0mrun\u001b[0m\u001b[1;33m[\u001b[0m\u001b[1;36m2\u001b[0m\u001b[1;33m]\u001b[0m\u001b[1;33m\u001b[0m\u001b[1;33m\u001b[0m\u001b[0m\n",
      "\u001b[1;31mNameError\u001b[0m: name 'run' is not defined"
     ]
    }
   ],
   "source": [
    "Xhat = run[0]\n",
    "G_loss = run[1]\n",
    "D_loss = run[2]"
   ]
  },
  {
   "cell_type": "code",
   "execution_count": 2,
   "id": "e3d19ffc-22b2-4157-a335-8152ec198b95",
   "metadata": {},
   "outputs": [
    {
     "ename": "NameError",
     "evalue": "name 'plt' is not defined",
     "output_type": "error",
     "traceback": [
      "\u001b[1;31m---------------------------------------------------------------------------\u001b[0m",
      "\u001b[1;31mNameError\u001b[0m                                 Traceback (most recent call last)",
      "\u001b[1;32m~\\AppData\\Local\\Temp/ipykernel_18588/962014207.py\u001b[0m in \u001b[0;36m<module>\u001b[1;34m\u001b[0m\n\u001b[1;32m----> 1\u001b[1;33m \u001b[0mplt\u001b[0m\u001b[1;33m.\u001b[0m\u001b[0mplot\u001b[0m\u001b[1;33m(\u001b[0m\u001b[0mG_loss\u001b[0m\u001b[1;33m)\u001b[0m\u001b[1;33m\u001b[0m\u001b[1;33m\u001b[0m\u001b[0m\n\u001b[0m",
      "\u001b[1;31mNameError\u001b[0m: name 'plt' is not defined"
     ]
    }
   ],
   "source": [
    "plt.plot(G_loss)"
   ]
  },
  {
   "cell_type": "code",
   "execution_count": 17,
   "id": "9ca41066-d7d3-4d6b-88da-fd1cf8377dd1",
   "metadata": {},
   "outputs": [
    {
     "data": {
      "text/plain": [
       "[<matplotlib.lines.Line2D at 0x21492404c40>]"
      ]
     },
     "execution_count": 17,
     "metadata": {},
     "output_type": "execute_result"
    },
    {
     "data": {
      "image/png": "[encoded data removed]",
      "text/plain": [
       "<Figure size 432x288 with 1 Axes>"
      ]
     },
     "metadata": {
      "needs_background": "light"
     },
     "output_type": "display_data"
    }
   ],
   "source": [
    "plt.plot(D_loss)"
   ]
  },
  {
   "cell_type": "code",
   "execution_count": 18,
   "id": "ec5752e9-369e-474a-aa46-3eec241e0e5e",
   "metadata": {},
   "outputs": [
    {
     "data": {
      "text/plain": [
       "array([[0.14015055, 0.01730585, 0.10372201, ..., 0.06039931, 0.01365156,\n",
       "        0.10387087],\n",
       "       [0.12556593, 0.10322042, 0.11446958, ..., 0.05772509, 0.03685297,\n",
       "        0.1432243 ],\n",
       "       [0.05839037, 0.109984  , 0.11791946, ..., 0.05735047, 0.20695789,\n",
       "        0.12934504],\n",
       "       ...,\n",
       "       [0.18206692, 0.02042136, 0.1687668 , ..., 0.07511754, 0.01850787,\n",
       "        0.21014665],\n",
       "       [0.15383132, 0.14331104, 0.13792217, ..., 0.02146372, 0.26253954,\n",
       "        0.02672526],\n",
       "       [0.15096068, 0.14588594, 0.00549059, ..., 0.07483267, 0.2596277 ,\n",
       "        0.16301516]])"
      ]
     },
     "execution_count": 18,
     "metadata": {},
     "output_type": "execute_result"
    }
   ],
   "source": [
    " Xhat"
   ]
  },
  {
   "cell_type": "code",
   "execution_count": null,
   "id": "50c266fa-1859-4480-98c7-ec3bb442e4ff",
   "metadata": {},
   "outputs": [],
   "source": []
  },
  {
   "cell_type": "code",
   "execution_count": null,
   "id": "04dd240e-b6c9-48bc-83e4-e78b1f53ae16",
   "metadata": {},
   "outputs": [],
   "source": []
  }
 ],
 "metadata": {
  "kernelspec": {
   "display_name": "Python 3 (ipykernel)",
   "language": "python",
   "name": "python3"
  },
  "language_info": {
   "codemirror_mode": {
    "name": "ipython",
    "version": 3
   },
   "file_extension": ".py",
   "mimetype": "text/x-python",
   "name": "python",
   "nbconvert_exporter": "python",
   "pygments_lexer": "ipython3",
   "version": "3.8.8"
  }
 },
 "nbformat": 4,
 "nbformat_minor": 5
}
