{
 "cells": [
  {
   "cell_type": "code",
   "execution_count": 2,
   "id": "5cae59f4-d280-4d7b-bebd-4631e9dabf76",
   "metadata": {},
   "outputs": [],
   "source": [
    "import os \n",
    "cwd = os.getcwd()"
   ]
  },
  {
   "cell_type": "code",
   "execution_count": 3,
   "id": "0dc0b9d1-63d4-4d52-9926-79ad2cff6e5d",
   "metadata": {},
   "outputs": [
    {
     "name": "stdout",
     "output_type": "stream",
     "text": [
      "WARNING:tensorflow:From C:\\Users\\markh\\Anaconda3\\lib\\site-packages\\tensorflow\\python\\compat\\v2_compat.py:111: disable_resource_variables (from tensorflow.python.ops.variable_scope) is deprecated and will be removed in a future version.\n",
      "Instructions for updating:\n",
      "non-resource variables are not supported in the long term\n"
     ]
    }
   ],
   "source": [
    "os.chdir(cwd)\n",
    "os.chdir('py_code')\n",
    "\n",
    "%run -i GRWINN.py\n",
    "%run -i utilities.py \n",
    "\n",
    "os.chdir('run_helpers\\\\')\n",
    "%run -i setup.py\n",
    "%run -i runGRWINN.py"
   ]
  },
  {
   "cell_type": "code",
   "execution_count": 51,
   "id": "955c8811-ce48-49be-b0cc-2f15aead10ec",
   "metadata": {},
   "outputs": [],
   "source": [
    "import numpy as np\n",
    "import pandas as pd\n",
    "url = \"https://archive.ics.uci.edu/ml/machine-learning-databases/arrhythmia/arrhythmia.data\"\n",
    "data = np.array(pd.read_csv(url))"
   ]
  },
  {
   "cell_type": "code",
   "execution_count": 52,
   "id": "5845a2a0-9dc4-4069-858f-341ddfb42a8d",
   "metadata": {},
   "outputs": [
    {
     "data": {
      "text/plain": [
       "array([[56, 1, 165, ..., 20.4, 38.8, 6],\n",
       "       [54, 0, 172, ..., 12.3, 49.0, 10],\n",
       "       [55, 0, 175, ..., 34.6, 61.6, 1],\n",
       "       ...,\n",
       "       [36, 0, 166, ..., -44.2, -33.2, 2],\n",
       "       [32, 1, 155, ..., 25.0, 46.6, 1],\n",
       "       [78, 1, 160, ..., 21.3, 32.8, 1]], dtype=object)"
      ]
     },
     "execution_count": 52,
     "metadata": {},
     "output_type": "execute_result"
    }
   ],
   "source": [
    "data"
   ]
  },
  {
   "cell_type": "code",
   "execution_count": 53,
   "id": "60264050-1c32-447c-9d46-61c7a87e70a2",
   "metadata": {},
   "outputs": [
    {
     "name": "stderr",
     "output_type": "stream",
     "text": [
      "C:\\Users\\markh\\AppData\\Local\\Temp/ipykernel_22660/3924969186.py:2: DeprecationWarning: `np.float` is a deprecated alias for the builtin `float`. To silence this warning, use `float` by itself. Doing this will not modify any behavior and is safe. If you specifically wanted the numpy scalar type, use `np.float64` here.\n",
      "Deprecated in NumPy 1.20; for more details and guidance: https://numpy.org/devdocs/release/1.20.0-notes.html#deprecations\n",
      "  data = np.array(data, dtype = np.float)\n"
     ]
    },
    {
     "data": {
      "text/plain": [
       "array([[ 56. ,   1. , 165. , ...,  20.4,  38.8,   6. ],\n",
       "       [ 54. ,   0. , 172. , ...,  12.3,  49. ,  10. ],\n",
       "       [ 55. ,   0. , 175. , ...,  34.6,  61.6,   1. ],\n",
       "       ...,\n",
       "       [ 36. ,   0. , 166. , ..., -44.2, -33.2,   2. ],\n",
       "       [ 32. ,   1. , 155. , ...,  25. ,  46.6,   1. ],\n",
       "       [ 78. ,   1. , 160. , ...,  21.3,  32.8,   1. ]])"
      ]
     },
     "execution_count": 53,
     "metadata": {},
     "output_type": "execute_result"
    }
   ],
   "source": [
    "data[data=='?']= 0\n",
    "data = np.array(data, dtype = np.float) \n",
    "data"
   ]
  },
  {
   "cell_type": "markdown",
   "id": "ddd6a887-58ba-4f61-8780-d890e2306b50",
   "metadata": {},
   "source": [
    "Generate Data\n"
   ]
  },
  {
   "cell_type": "code",
   "execution_count": 54,
   "id": "ed343ecd-0521-4ded-89ad-265a2e959435",
   "metadata": {},
   "outputs": [
    {
     "data": {
      "text/plain": [
       "(451, 280)"
      ]
     },
     "execution_count": 54,
     "metadata": {},
     "output_type": "execute_result"
    }
   ],
   "source": [
    "np.shape(data)"
   ]
  },
  {
   "cell_type": "markdown",
   "id": "8ac9308f-8104-4bdd-a9c6-5edac8edc4ff",
   "metadata": {},
   "source": [
    "get  data afrom UCI"
   ]
  },
  {
   "cell_type": "code",
   "execution_count": 55,
   "id": "48755690-9f2c-4810-a615-f81bcb2bcd5c",
   "metadata": {},
   "outputs": [],
   "source": [
    "X = normalization(data)[0]"
   ]
  },
  {
   "cell_type": "code",
   "execution_count": 56,
   "id": "5fb4b249-2e78-4492-bc8d-ec21fe18e312",
   "metadata": {},
   "outputs": [
    {
     "data": {
      "text/plain": [
       "array([0, 0, 0, 0, 0, 0, 0, 0, 0, 0, 0, 0, 0, 0, 0, 0, 0, 0, 0, 0, 0, 0,\n",
       "       0, 0, 0, 0, 0, 0, 0, 0, 0, 0, 0, 0, 0, 0, 0, 0, 0, 0, 0, 0, 0, 0,\n",
       "       0, 0, 0, 0, 0, 0, 0, 0, 0, 0, 0, 0, 0, 0, 0, 0, 0, 0, 0, 0, 0, 0,\n",
       "       0, 0, 0, 0, 0, 0, 0, 0, 0, 0, 0, 0, 0, 0, 0, 0, 0, 0, 0, 0, 0, 0,\n",
       "       0, 0, 0, 0, 0, 0, 0, 0, 0, 0, 0, 0, 0, 0, 0, 0, 0, 0, 0, 0, 0, 0,\n",
       "       0, 0, 0, 0, 0, 0, 0, 0, 0, 0, 0, 0, 0, 0, 0, 0, 0, 0, 0, 0, 0, 0,\n",
       "       0, 0, 0, 0, 0, 0, 0, 0, 0, 0, 0, 0, 0, 0, 0, 0, 0, 0, 0, 0, 0, 0,\n",
       "       0, 0, 0, 0, 0, 0, 0, 0, 0, 0, 0, 0, 0, 0, 0, 0, 0, 0, 0, 0, 0, 0,\n",
       "       0, 0, 0, 0, 0, 0, 0, 0, 0, 0, 0, 0, 0, 0, 0, 0, 0, 0, 0, 0, 0, 0,\n",
       "       0, 0, 0, 0, 0, 0, 0, 0, 0, 0, 0, 0, 0, 0, 0, 0, 0, 0, 0, 0, 0, 0,\n",
       "       0, 0, 0, 0, 0, 0, 0, 0, 0, 0, 0, 0, 0, 0, 0, 0, 0, 0, 0, 0, 0, 0,\n",
       "       0, 0, 0, 0, 0, 0, 0, 0, 0, 0, 0, 0, 0, 0, 0, 0, 0, 0, 0, 0, 0, 0,\n",
       "       0, 0, 0, 0, 0, 0, 0, 0, 0, 0, 0, 0, 0, 0, 0, 0])"
      ]
     },
     "execution_count": 56,
     "metadata": {},
     "output_type": "execute_result"
    }
   ],
   "source": [
    "sum( np.isnan(X))"
   ]
  },
  {
   "cell_type": "markdown",
   "id": "6b6de55b-4dc1-4404-8a19-1c244627f8dd",
   "metadata": {},
   "source": [
    "function to generate missing, depepndent on log of the (normalized) data "
   ]
  },
  {
   "cell_type": "code",
   "execution_count": 57,
   "id": "947252a9-4d36-43a6-9fd1-0d95d1947b17",
   "metadata": {},
   "outputs": [],
   "source": [
    "def make_missing(X):\n",
    "    msg = np.log(X+1)\n",
    "    n, p = X.shape\n",
    "    X_na = X.copy()\n",
    "\n",
    "    for j in range(p):\n",
    "        for i in range(n):\n",
    "            Msg_ij= np.random.binomial(1,  msg[i,j])\n",
    "            if Msg_ij ==1:\n",
    "                X_na[i,j] = np.nan\n",
    "    return X_na\n"
   ]
  },
  {
   "cell_type": "code",
   "execution_count": 58,
   "id": "486dc875-f2ff-436c-9552-d7324cf69e07",
   "metadata": {},
   "outputs": [],
   "source": [
    "Xna  = make_missing(X)\n",
    "Mask = 1 - np.isnan(Xna)"
   ]
  },
  {
   "cell_type": "code",
   "execution_count": 75,
   "id": "db4a7b1d-646e-4bc5-80af-c331b4918c97",
   "metadata": {},
   "outputs": [
    {
     "name": "stderr",
     "output_type": "stream",
     "text": [
      "C:\\Users\\markh\\Anaconda3\\lib\\site-packages\\tensorflow\\python\\framework\\indexed_slices.py:448: UserWarning: Converting sparse IndexedSlices(IndexedSlices(indices=Tensor(\"gradients_7/map_7/while/GatherV2_1_grad/Reshape_1:0\", shape=(?,), dtype=int32), values=Tensor(\"gradients_7/map_7/while/GatherV2_1_grad/Reshape:0\", shape=(?,), dtype=float32), dense_shape=Tensor(\"gradients_7/map_7/while/GatherV2_1_grad/Cast:0\", shape=(1,), dtype=int32))) to a dense Tensor of unknown shape. This may consume a large amount of memory.\n",
      "  warnings.warn(\n",
      "C:\\Users\\markh\\Anaconda3\\lib\\site-packages\\tensorflow\\python\\framework\\indexed_slices.py:448: UserWarning: Converting sparse IndexedSlices(IndexedSlices(indices=Tensor(\"gradients_7/map_6/while/GatherV2_1_grad/Reshape_1:0\", shape=(?,), dtype=int32), values=Tensor(\"gradients_7/map_6/while/GatherV2_1_grad/Reshape:0\", shape=(?,), dtype=float32), dense_shape=Tensor(\"gradients_7/map_6/while/GatherV2_1_grad/Cast:0\", shape=(1,), dtype=int32))) to a dense Tensor of unknown shape. This may consume a large amount of memory.\n",
      "  warnings.warn(\n",
      "100%|██████████| 1499/1499 [02:38<00:00,  9.47it/s]\n"
     ]
    }
   ],
   "source": [
    "GRWINN_impu = GRWINN (Xna.copy(), Mask,   {'batch_size': round(np.shape(Xna)[0]/3 ),   'iterations':1500})"
   ]
  },
  {
   "cell_type": "code",
   "execution_count": 76,
   "id": "61b03bb1-ece7-4915-ade8-0422a75d19b2",
   "metadata": {},
   "outputs": [],
   "source": [
    "Xhat = GRWINN_impu[0]\n",
    "G_loss = GRWINN_impu[1]\n",
    "D_loss = GRWINN_impu[2]"
   ]
  },
  {
   "cell_type": "markdown",
   "id": "518d6130-e8fc-4a1b-acdf-e67e373f14a6",
   "metadata": {},
   "source": [
    "Evaluate the G loss and D loss:"
   ]
  },
  {
   "cell_type": "code",
   "execution_count": 77,
   "id": "e3d19ffc-22b2-4157-a335-8152ec198b95",
   "metadata": {},
   "outputs": [
    {
     "data": {
      "text/plain": [
       "[<matplotlib.lines.Line2D at 0x1889c131a90>]"
      ]
     },
     "execution_count": 77,
     "metadata": {},
     "output_type": "execute_result"
    },
    {
     "data": {
      "image/png": "[encoded data removed]",
      "text/plain": [
       "<Figure size 432x288 with 1 Axes>"
      ]
     },
     "metadata": {
      "needs_background": "light"
     },
     "output_type": "display_data"
    }
   ],
   "source": [
    "plt.plot(G_loss[2:2000])"
   ]
  },
  {
   "cell_type": "code",
   "execution_count": 78,
   "id": "9ca41066-d7d3-4d6b-88da-fd1cf8377dd1",
   "metadata": {},
   "outputs": [
    {
     "data": {
      "text/plain": [
       "[<matplotlib.lines.Line2D at 0x1889c18d940>]"
      ]
     },
     "execution_count": 78,
     "metadata": {},
     "output_type": "execute_result"
    },
    {
     "data": {
      "image/png": "[encoded data removed]",
      "text/plain": [
       "<Figure size 432x288 with 1 Axes>"
      ]
     },
     "metadata": {
      "needs_background": "light"
     },
     "output_type": "display_data"
    }
   ],
   "source": [
    "plt.plot(-D_loss[2:2000])"
   ]
  },
  {
   "cell_type": "markdown",
   "id": "e53fb1c4-c31e-4a58-a11e-e782ca8423d5",
   "metadata": {},
   "source": [
    "calculate absolute error of Xhat (imputation) "
   ]
  },
  {
   "cell_type": "code",
   "execution_count": 84,
   "id": "ec5752e9-369e-474a-aa46-3eec241e0e5e",
   "metadata": {},
   "outputs": [
    {
     "data": {
      "text/plain": [
       "0.009527124594930074"
      ]
     },
     "execution_count": 84,
     "metadata": {},
     "output_type": "execute_result"
    }
   ],
   "source": [
    "np.mean( ( Xhat - X)**2)"
   ]
  },
  {
   "cell_type": "markdown",
   "id": "bf0c6ecc-66d4-4fb3-aad1-4a21cfe646ac",
   "metadata": {},
   "source": [
    "can also try on other datasets"
   ]
  },
  {
   "cell_type": "code",
   "execution_count": null,
   "id": "dae7c83c-9d83-4508-9d30-cd9c31fa05e7",
   "metadata": {},
   "outputs": [],
   "source": [
    "url = \"https://archive.ics.uci.edu/ml/machine-learning-databases/wine-quality/winequality-white.csv\"\n",
    "data = np.array(pd.read_csv(url, low_memory=False, sep=';'))\n",
    "data = data[:, :-1]"
   ]
  }
 ],
 "metadata": {
  "kernelspec": {
   "display_name": "Python 3 (ipykernel)",
   "language": "python",
   "name": "python3"
  },
  "language_info": {
   "codemirror_mode": {
    "name": "ipython",
    "version": 3
   },
   "file_extension": ".py",
   "mimetype": "text/x-python",
   "name": "python",
   "nbconvert_exporter": "python",
   "pygments_lexer": "ipython3",
   "version": "3.8.8"
  }
 },
 "nbformat": 4,
 "nbformat_minor": 5
}
