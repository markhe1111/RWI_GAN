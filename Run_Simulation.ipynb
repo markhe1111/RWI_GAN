{
 "cells": [
  {
   "cell_type": "code",
   "execution_count": 1,
   "id": "5cae59f4-d280-4d7b-bebd-4631e9dabf76",
   "metadata": {},
   "outputs": [],
   "source": [
    "import os \n",
    "cwd = os.getcwd()"
   ]
  },
  {
   "cell_type": "code",
   "execution_count": null,
   "id": "0dc0b9d1-63d4-4d52-9926-79ad2cff6e5d",
   "metadata": {},
   "outputs": [],
   "source": [
    "os.chdir(cwd)\n",
    "os.chdir('py_code')\n",
    "\n",
    "%run -i GRWINN.py\n",
    "%run -i utilities.py \n",
    "\n",
    "os.chdir('run_helpers\\\\')\n",
    "%run -i setup.py\n",
    "%run -i runGRWINN.py"
   ]
  },
  {
   "cell_type": "markdown",
   "id": "ddd6a887-58ba-4f61-8780-d890e2306b50",
   "metadata": {},
   "source": [
    "Generate Missingness\n"
   ]
  },
  {
   "cell_type": "code",
   "execution_count": null,
   "id": "eb2fe08f-d438-4437-86c4-f6c13a078fe2",
   "metadata": {},
   "outputs": [],
   "source": [
    "truefile = 'IMb1_1_True.csv'\n"
   ]
  },
  {
   "cell_type": "code",
   "execution_count": 14,
   "id": "b811bb18-9c7b-4484-affe-2cae865bae85",
   "metadata": {},
   "outputs": [
    {
     "name": "stderr",
     "output_type": "stream",
     "text": [
      "C:\\Users\\markh\\Anaconda3\\lib\\site-packages\\tensorflow\\python\\framework\\indexed_slices.py:448: UserWarning: Converting sparse IndexedSlices(IndexedSlices(indices=Tensor(\"gradients_1/map_1/while/GatherV2_1_grad/Reshape_1:0\", shape=(?,), dtype=int32), values=Tensor(\"gradients_1/map_1/while/GatherV2_1_grad/Reshape:0\", shape=(?,), dtype=float32), dense_shape=Tensor(\"gradients_1/map_1/while/GatherV2_1_grad/Cast:0\", shape=(1,), dtype=int32))) to a dense Tensor of unknown shape. This may consume a large amount of memory.\n",
      "  warnings.warn(\n",
      "C:\\Users\\markh\\Anaconda3\\lib\\site-packages\\tensorflow\\python\\framework\\indexed_slices.py:448: UserWarning: Converting sparse IndexedSlices(IndexedSlices(indices=Tensor(\"gradients_1/map/while/GatherV2_1_grad/Reshape_1:0\", shape=(?,), dtype=int32), values=Tensor(\"gradients_1/map/while/GatherV2_1_grad/Reshape:0\", shape=(?,), dtype=float32), dense_shape=Tensor(\"gradients_1/map/while/GatherV2_1_grad/Cast:0\", shape=(1,), dtype=int32))) to a dense Tensor of unknown shape. This may consume a large amount of memory.\n",
      "  warnings.warn(\n",
      "100%|██████████| 999/999 [00:31<00:00, 31.60it/s]\n"
     ]
    }
   ],
   "source": [
    "truefile = 'IMb1_1_True.csv'\n",
    "nafile =  'IMb1_1.csv'\n",
    "run =  runGRWINN(  nafile , 100,  1000 )  "
   ]
  },
  {
   "cell_type": "code",
   "execution_count": null,
   "id": "c6496df3-309e-4638-b1f9-b2ae71dbc279",
   "metadata": {},
   "outputs": [],
   "source": []
  },
  {
   "cell_type": "code",
   "execution_count": null,
   "id": "eb22fd19-e210-4c0a-94a6-0afc26a281b1",
   "metadata": {},
   "outputs": [],
   "source": []
  },
  {
   "cell_type": "code",
   "execution_count": null,
   "id": "0fa54c9c-f4d1-47a6-8ee9-a0fff0af17e1",
   "metadata": {},
   "outputs": [],
   "source": []
  },
  {
   "cell_type": "code",
   "execution_count": 15,
   "id": "61b03bb1-ece7-4915-ade8-0422a75d19b2",
   "metadata": {},
   "outputs": [],
   "source": [
    "Xhat = run[0]\n",
    "G_loss = run[1]\n",
    "D_loss = run[2]"
   ]
  },
  {
   "cell_type": "code",
   "execution_count": 16,
   "id": "e3d19ffc-22b2-4157-a335-8152ec198b95",
   "metadata": {},
   "outputs": [
    {
     "data": {
      "text/plain": [
       "[<matplotlib.lines.Line2D at 0x1abdafcaa90>]"
      ]
     },
     "execution_count": 16,
     "metadata": {},
     "output_type": "execute_result"
    },
    {
     "data": {
      "image/png": "[encoded data removed]",
      "text/plain": [
       "<Figure size 432x288 with 1 Axes>"
      ]
     },
     "metadata": {
      "needs_background": "light"
     },
     "output_type": "display_data"
    }
   ],
   "source": [
    "plt.plot(G_loss)"
   ]
  },
  {
   "cell_type": "code",
   "execution_count": 18,
   "id": "9ca41066-d7d3-4d6b-88da-fd1cf8377dd1",
   "metadata": {},
   "outputs": [
    {
     "data": {
      "text/plain": [
       "[<matplotlib.lines.Line2D at 0x1abdb105f40>]"
      ]
     },
     "execution_count": 18,
     "metadata": {},
     "output_type": "execute_result"
    },
    {
     "data": {
      "image/png": "[encoded data removed]",
      "text/plain": [
       "<Figure size 432x288 with 1 Axes>"
      ]
     },
     "metadata": {
      "needs_background": "light"
     },
     "output_type": "display_data"
    }
   ],
   "source": [
    "plt.plot(-D_loss)"
   ]
  },
  {
   "cell_type": "code",
   "execution_count": 18,
   "id": "ec5752e9-369e-474a-aa46-3eec241e0e5e",
   "metadata": {},
   "outputs": [
    {
     "data": {
      "text/plain": [
       "array([[0.14015055, 0.01730585, 0.10372201, ..., 0.06039931, 0.01365156,\n",
       "        0.10387087],\n",
       "       [0.12556593, 0.10322042, 0.11446958, ..., 0.05772509, 0.03685297,\n",
       "        0.1432243 ],\n",
       "       [0.05839037, 0.109984  , 0.11791946, ..., 0.05735047, 0.20695789,\n",
       "        0.12934504],\n",
       "       ...,\n",
       "       [0.18206692, 0.02042136, 0.1687668 , ..., 0.07511754, 0.01850787,\n",
       "        0.21014665],\n",
       "       [0.15383132, 0.14331104, 0.13792217, ..., 0.02146372, 0.26253954,\n",
       "        0.02672526],\n",
       "       [0.15096068, 0.14588594, 0.00549059, ..., 0.07483267, 0.2596277 ,\n",
       "        0.16301516]])"
      ]
     },
     "execution_count": 18,
     "metadata": {},
     "output_type": "execute_result"
    }
   ],
   "source": [
    " Xhat "
   ]
  },
  {
   "cell_type": "code",
   "execution_count": null,
   "id": "50c266fa-1859-4480-98c7-ec3bb442e4ff",
   "metadata": {},
   "outputs": [],
   "source": []
  },
  {
   "cell_type": "code",
   "execution_count": null,
   "id": "04dd240e-b6c9-48bc-83e4-e78b1f53ae16",
   "metadata": {},
   "outputs": [],
   "source": []
  }
 ],
 "metadata": {
  "kernelspec": {
   "display_name": "Python 3 (ipykernel)",
   "language": "python",
   "name": "python3"
  },
  "language_info": {
   "codemirror_mode": {
    "name": "ipython",
    "version": 3
   },
   "file_extension": ".py",
   "mimetype": "text/x-python",
   "name": "python",
   "nbconvert_exporter": "python",
   "pygments_lexer": "ipython3",
   "version": "3.8.8"
  }
 },
 "nbformat": 4,
 "nbformat_minor": 5
}
